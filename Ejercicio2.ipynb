{
  "nbformat": 4,
  "nbformat_minor": 0,
  "metadata": {
    "colab": {
      "name": "Untitled1.ipynb",
      "provenance": [],
      "authorship_tag": "ABX9TyMsAO8RXUd0wNR8lxnicZP2",
      "include_colab_link": true
    },
    "kernelspec": {
      "name": "python3",
      "display_name": "Python 3"
    },
    "accelerator": "GPU"
  },
  "cells": [
    {
      "cell_type": "markdown",
      "metadata": {
        "id": "view-in-github",
        "colab_type": "text"
      },
      "source": [
        "<a href=\"https://colab.research.google.com/github/pablobermudez/SOA_EA3/blob/master/Ejercicio2.ipynb\" target=\"_parent\"><img src=\"https://colab.research.google.com/assets/colab-badge.svg\" alt=\"Open In Colab\"/></a>"
      ]
    },
    {
      "cell_type": "markdown",
      "metadata": {
        "id": "SLM2l23PFYs6"
      },
      "source": [
        "#2 Armado del ambiente"
      ]
    },
    {
      "cell_type": "markdown",
      "metadata": {
        "id": "dEjH5XSmHcJi"
      },
      "source": [
        "## 2.1 Instalar en el cuaderno el módulo CUDA de Python.\n"
      ]
    },
    {
      "cell_type": "code",
      "metadata": {
        "colab": {
          "base_uri": "https://localhost:8080/"
        },
        "id": "rZSSknjKFhIA",
        "outputId": "52cba1fc-8ec9-4eb0-ed7a-5c4375415ea6"
      },
      "source": [
        "!pip install pycuda"
      ],
      "execution_count": 1,
      "outputs": [
        {
          "output_type": "stream",
          "text": [
            "Collecting pycuda\n",
            "\u001b[?25l  Downloading https://files.pythonhosted.org/packages/46/61/47d3235a4c13eec5a5f03594ddb268f4858734e02980afbcd806e6242fa5/pycuda-2020.1.tar.gz (1.6MB)\n",
            "\u001b[K     |████████████████████████████████| 1.6MB 5.5MB/s \n",
            "\u001b[?25hCollecting pytools>=2011.2\n",
            "\u001b[?25l  Downloading https://files.pythonhosted.org/packages/b7/30/c9362a282ef89106768cba9d884f4b2e4f5dc6881d0c19b478d2a710b82b/pytools-2020.4.3.tar.gz (62kB)\n",
            "\u001b[K     |████████████████████████████████| 71kB 6.2MB/s \n",
            "\u001b[?25hRequirement already satisfied: decorator>=3.2.0 in /usr/local/lib/python3.6/dist-packages (from pycuda) (4.4.2)\n",
            "Collecting appdirs>=1.4.0\n",
            "  Downloading https://files.pythonhosted.org/packages/3b/00/2344469e2084fb287c2e0b57b72910309874c3245463acd6cf5e3db69324/appdirs-1.4.4-py2.py3-none-any.whl\n",
            "Collecting mako\n",
            "\u001b[?25l  Downloading https://files.pythonhosted.org/packages/a6/37/0e706200d22172eb8fa17d68a7ae22dec7631a0a92266634fb518a88a5b2/Mako-1.1.3-py2.py3-none-any.whl (75kB)\n",
            "\u001b[K     |████████████████████████████████| 81kB 6.9MB/s \n",
            "\u001b[?25hRequirement already satisfied: six>=1.8.0 in /usr/local/lib/python3.6/dist-packages (from pytools>=2011.2->pycuda) (1.15.0)\n",
            "Requirement already satisfied: numpy>=1.6.0 in /usr/local/lib/python3.6/dist-packages (from pytools>=2011.2->pycuda) (1.18.5)\n",
            "Requirement already satisfied: dataclasses>=0.7 in /usr/local/lib/python3.6/dist-packages (from pytools>=2011.2->pycuda) (0.7)\n",
            "Requirement already satisfied: MarkupSafe>=0.9.2 in /usr/local/lib/python3.6/dist-packages (from mako->pycuda) (1.1.1)\n",
            "Building wheels for collected packages: pycuda, pytools\n",
            "  Building wheel for pycuda (setup.py) ... \u001b[?25l\u001b[?25hdone\n",
            "  Created wheel for pycuda: filename=pycuda-2020.1-cp36-cp36m-linux_x86_64.whl size=620747 sha256=45117bcaa17078f3dfe2370429d5f2d4567197c3ef2cabbac7b3d8ef46c85b26\n",
            "  Stored in directory: /root/.cache/pip/wheels/8f/78/d1/5bb826f81d9d490297a348d818ff3ee6dd6f2075b06dde6ea0\n",
            "  Building wheel for pytools (setup.py) ... \u001b[?25l\u001b[?25hdone\n",
            "  Created wheel for pytools: filename=pytools-2020.4.3-py2.py3-none-any.whl size=61374 sha256=9b4924a3d8ed04a5db796794e0a3cbd737c3daee429a14e9233ac25a33abfc8b\n",
            "  Stored in directory: /root/.cache/pip/wheels/af/c7/81/a22edb90b0b09a880468b2253bb1df8e9f503337ee15432c64\n",
            "Successfully built pycuda pytools\n",
            "Installing collected packages: appdirs, pytools, mako, pycuda\n",
            "Successfully installed appdirs-1.4.4 mako-1.1.3 pycuda-2020.1 pytools-2020.4.3\n"
          ],
          "name": "stdout"
        }
      ]
    },
    {
      "cell_type": "markdown",
      "metadata": {
        "id": "3O9ewtRJG4vh"
      },
      "source": [
        "## 2.2 Incluir la imagen que será utilizada"
      ]
    },
    {
      "cell_type": "code",
      "metadata": {
        "colab": {
          "base_uri": "https://localhost:8080/"
        },
        "id": "1QI27x1ZHQbh",
        "outputId": "f4e99f3d-48ef-4640-d96b-71f467b4f466"
      },
      "source": [
        "url_imagen = \"https://github.com/pablobermudez/SOA_EA3/blob/master/Ejercicio2/Alf.jpg?raw=true\" #@param {type:\"string\"}\n",
        "!wget {url_imagen} -O imagen.jpg"
      ],
      "execution_count": 2,
      "outputs": [
        {
          "output_type": "stream",
          "text": [
            "--2020-11-21 20:57:58--  https://github.com/pablobermudez/SOA_EA3/blob/master/Ejercicio2/Alf.jpg?raw=true\n",
            "Resolving github.com (github.com)... 52.192.72.89\n",
            "Connecting to github.com (github.com)|52.192.72.89|:443... connected.\n",
            "HTTP request sent, awaiting response... 302 Found\n",
            "Location: https://github.com/pablobermudez/SOA_EA3/raw/master/Ejercicio2/Alf.jpg [following]\n",
            "--2020-11-21 20:57:58--  https://github.com/pablobermudez/SOA_EA3/raw/master/Ejercicio2/Alf.jpg\n",
            "Reusing existing connection to github.com:443.\n",
            "HTTP request sent, awaiting response... 302 Found\n",
            "Location: https://raw.githubusercontent.com/pablobermudez/SOA_EA3/master/Ejercicio2/Alf.jpg [following]\n",
            "--2020-11-21 20:57:58--  https://raw.githubusercontent.com/pablobermudez/SOA_EA3/master/Ejercicio2/Alf.jpg\n",
            "Resolving raw.githubusercontent.com (raw.githubusercontent.com)... 151.101.0.133, 151.101.64.133, 151.101.128.133, ...\n",
            "Connecting to raw.githubusercontent.com (raw.githubusercontent.com)|151.101.0.133|:443... connected.\n",
            "HTTP request sent, awaiting response... 200 OK\n",
            "Length: 5624 (5.5K) [image/jpeg]\n",
            "Saving to: ‘imagen.jpg’\n",
            "\n",
            "imagen.jpg          100%[===================>]   5.49K  --.-KB/s    in 0s      \n",
            "\n",
            "2020-11-21 20:57:59 (31.5 MB/s) - ‘imagen.jpg’ saved [5624/5624]\n",
            "\n"
          ],
          "name": "stdout"
        }
      ]
    },
    {
      "cell_type": "markdown",
      "metadata": {
        "id": "RQNHB_DrFTt5"
      },
      "source": [
        "#3 Desarrollo - GPU"
      ]
    },
    {
      "cell_type": "code",
      "metadata": {
        "colab": {
          "base_uri": "https://localhost:8080/",
          "height": 371
        },
        "id": "jZwIMpBer56O",
        "outputId": "efe8f0a3-b045-426e-b5b1-788b0a6a9d20"
      },
      "source": [
        "\n",
        "\n",
        "\n",
        "#!python \n",
        "#!/usr/bin/env python -tt\n",
        "# encoding: utf-8\n",
        "#\n",
        "# Created by Holger Rapp on 2009-03-11.\n",
        "# HolgerRapp@gmx.net\n",
        "#\n",
        "\n",
        "import pycuda.driver as cuda\n",
        "import pycuda.compiler\n",
        "import pycuda.autoinit\n",
        "import numpy\n",
        "from math import pi,cos,sin\n",
        "\n",
        "_rotation_kernel_source = \"\"\"\n",
        "texture<float, 2> tex;\n",
        "\n",
        "__global__ void copy_texture_kernel(\n",
        "    const float resize_val, \n",
        "    const float alpha, \n",
        "    unsigned short oldiw, unsigned short oldih,\n",
        "    unsigned short newiw, unsigned short newih,\n",
        "    unsigned char* data) {\n",
        "\n",
        "        // calculate pixel idx\n",
        "        unsigned int x = blockIdx.x * blockDim.x + threadIdx.x;\n",
        "        unsigned int y = blockIdx.y * blockDim.y + threadIdx.y;\n",
        "\n",
        "        // We might be outside the reachable pixels. Don't do anything\n",
        "        if( (x >= newiw) || (y >= newih) )\n",
        "            return;\n",
        "\n",
        "        // calculate offset into destination array\n",
        "        unsigned int didx = y * newiw + x;\n",
        "\n",
        "        // calculate offset into source array (be aware of rotation and scaling)\n",
        "        float xmiddle = (x-newiw/2.) / resize_val;\n",
        "        float ymiddle = (y-newih/2.) / resize_val;\n",
        "        float sx = ( xmiddle*cos(alpha)+ymiddle*sin(alpha) + oldiw/2.) ;\n",
        "        float sy = ( -xmiddle*sin(alpha)+ymiddle*cos(alpha) + oldih/2.);\n",
        "\n",
        "        if( (sx < 0) || (sx >= oldiw) || (sy < 0) || (sy >= oldih) ) { \n",
        "            data[didx] = 255; \n",
        "            return;\n",
        "        }\n",
        "\n",
        "        data[didx] = tex2D(tex, sx, sy);\n",
        "    }\n",
        "\"\"\"\n",
        "mod_copy_texture=pycuda.compiler.SourceModule( _rotation_kernel_source )\n",
        "\n",
        "copy_texture_func = mod_copy_texture.get_function(\"copy_texture_kernel\")\n",
        "texref = mod_copy_texture.get_texref(\"tex\")\n",
        "\n",
        "def rotate_image( a, resize = 1.5, angle = 20., interpolation = \"linear\", blocks = (16,16,1)  ):\n",
        "    \"\"\"\n",
        "    Rotates the array. The new array has the new size and centers the\n",
        "    picture in the middle.\n",
        "\n",
        "    a             - array (2-dim)\n",
        "    resize        - new_image w/old_image w\n",
        "    angle         - degrees to rotate the image\n",
        "    interpolation - \"linear\" or None\n",
        "    blocks        - given to the kernel when run\n",
        "\n",
        "\n",
        "    returns: a new array with dtype=uint8 containing the rotated image\n",
        "    \"\"\"\n",
        "    angle = angle/180. *pi\n",
        "\n",
        "    # Convert this image to float. Unsigned int texture gave \n",
        "    # strange results for me. This conversion is slow though :(\n",
        "    a = a.astype(\"float32\")\n",
        "\n",
        "    # Calculate the dimensions of the new image\n",
        "    calc_x = lambda xy: (x*a.shape[1]/2.*cos(angle)-y*a.shape[0]/2.*sin(angle))\n",
        "    calc_y = lambda xy: (x*a.shape[1]/2.*sin(angle)+y*a.shape[0]/2.*cos(angle))\n",
        "\n",
        "    xs = [ calc_x(p) for p in [ (-1.,-1.),(1.,-1.),(1.,1.),(-1.,1.) ] ]\n",
        "    ys = [ calc_y(p) for p in [ (-1.,-1.),(1.,-1.),(1.,1.),(-1.,1.) ] ]\n",
        "\n",
        "    new_image_dim = (\n",
        "        int(numpy.ceil(max(ys)-min(ys))*resize),\n",
        "        int(numpy.ceil(max(xs)-min(xs))*resize),\n",
        "    )\n",
        "\n",
        "    # Now generate the cuda texture\n",
        "    cuda.matrix_to_texref(a, texref, order=\"C\")\n",
        "\n",
        "    # We could set the next if we wanted to address the image\n",
        "    # in normalized coordinates ( 0 <= coordinate < 1.)\n",
        "    # texref.set_flags(cuda.TRSF_NORMALIZED_COORDINATES)\n",
        "    if interpolation == \"linear\":\n",
        "        texref.set_filter_mode(cuda.filter_mode.LINEAR)\n",
        "\n",
        "    # Calculate the gridsize. This is entirely given by the size of our image. \n",
        "    gridx = new_image_dim[0]/blocks[0] if \\\n",
        "            new_image_dim[0]%blocks[0]==1 else new_image_dim[0]/blocks[0] +1\n",
        "    gridy = new_image_dim[1]/blocks[1] if \\\n",
        "            new_image_dim[1]%blocks[1]==0 else new_image_dim[1]/blocks[1] +1\n",
        "\n",
        "    # Get the output image\n",
        "    output = numpy.zeros(new_image_dim,dtype=\"uint8\")\n",
        "\n",
        "    # Call the kernel\n",
        "    copy_texture_func(\n",
        "        numpy.float32(resize), numpy.float32(angle),\n",
        "        numpy.uint16(a.shape[1]), numpy.uint16(a.shape[0]),\n",
        "        numpy.uint16(new_image_dim[1]), numpy.uint16(new_image_dim[0]),\n",
        "            cuda.Out(output),texrefs=[texref],block=blocks,grid=(gridx,gridy))\n",
        "\n",
        "    return output\n",
        "\n",
        "if __name__ == '__main__':\n",
        "    import Image\n",
        "    import sys\n",
        "\n",
        "    def main( ):\n",
        "        if len(sys.argv) != 2:\n",
        "            print (\"You should really read the source...\\n\\nUsage: rotate.py <Imagename>\\n\")\n",
        "            sys.exit(-1)\n",
        "\n",
        "        # Open, convert to grayscale, convert to numpy array\n",
        "        img = Image.open(sys.argv[1]).convert(\"L\")\n",
        "        i = numpy.fromstring(img.tostring(),dtype=\"uint8\").reshape(img.size[1],img.size[0])\n",
        "\n",
        "        # Rotate & convert back to PIL Image\n",
        "        irot = rotate_image(i)\n",
        "        rotimg = Image.fromarray(irot,mode=\"L\")\n",
        "\n",
        "        # Save and display\n",
        "        rotimg.save(\"rotated.png\")\n",
        "        rotimg.show()\n",
        "\n",
        "    main()\n",
        "\n",
        "\n",
        "\n"
      ],
      "execution_count": 7,
      "outputs": [
        {
          "output_type": "error",
          "ename": "RuntimeError",
          "evalue": "ignored",
          "traceback": [
            "\u001b[0;31m---------------------------------------------------------------------------\u001b[0m",
            "\u001b[0;31mRuntimeError\u001b[0m                              Traceback (most recent call last)",
            "\u001b[0;32m<ipython-input-7-63043d99e2a6>\u001b[0m in \u001b[0;36m<module>\u001b[0;34m()\u001b[0m\n\u001b[1;32m     12\u001b[0m \u001b[0;32mimport\u001b[0m \u001b[0mpycuda\u001b[0m\u001b[0;34m.\u001b[0m\u001b[0mdriver\u001b[0m \u001b[0;32mas\u001b[0m \u001b[0mcuda\u001b[0m\u001b[0;34m\u001b[0m\u001b[0;34m\u001b[0m\u001b[0m\n\u001b[1;32m     13\u001b[0m \u001b[0;32mimport\u001b[0m \u001b[0mpycuda\u001b[0m\u001b[0;34m.\u001b[0m\u001b[0mcompiler\u001b[0m\u001b[0;34m\u001b[0m\u001b[0;34m\u001b[0m\u001b[0m\n\u001b[0;32m---> 14\u001b[0;31m \u001b[0;32mimport\u001b[0m \u001b[0mpycuda\u001b[0m\u001b[0;34m.\u001b[0m\u001b[0mautoinit\u001b[0m\u001b[0;34m\u001b[0m\u001b[0;34m\u001b[0m\u001b[0m\n\u001b[0m\u001b[1;32m     15\u001b[0m \u001b[0;32mimport\u001b[0m \u001b[0mnumpy\u001b[0m\u001b[0;34m\u001b[0m\u001b[0;34m\u001b[0m\u001b[0m\n\u001b[1;32m     16\u001b[0m \u001b[0;32mfrom\u001b[0m \u001b[0mmath\u001b[0m \u001b[0;32mimport\u001b[0m \u001b[0mpi\u001b[0m\u001b[0;34m,\u001b[0m\u001b[0mcos\u001b[0m\u001b[0;34m,\u001b[0m\u001b[0msin\u001b[0m\u001b[0;34m\u001b[0m\u001b[0;34m\u001b[0m\u001b[0m\n",
            "\u001b[0;32m/usr/local/lib/python3.6/dist-packages/pycuda/autoinit.py\u001b[0m in \u001b[0;36m<module>\u001b[0;34m()\u001b[0m\n\u001b[1;32m      3\u001b[0m \u001b[0;34m\u001b[0m\u001b[0m\n\u001b[1;32m      4\u001b[0m \u001b[0;31m# Initialize CUDA\u001b[0m\u001b[0;34m\u001b[0m\u001b[0;34m\u001b[0m\u001b[0;34m\u001b[0m\u001b[0m\n\u001b[0;32m----> 5\u001b[0;31m \u001b[0mcuda\u001b[0m\u001b[0;34m.\u001b[0m\u001b[0minit\u001b[0m\u001b[0;34m(\u001b[0m\u001b[0;34m)\u001b[0m\u001b[0;34m\u001b[0m\u001b[0;34m\u001b[0m\u001b[0m\n\u001b[0m\u001b[1;32m      6\u001b[0m \u001b[0;34m\u001b[0m\u001b[0m\n\u001b[1;32m      7\u001b[0m \u001b[0;32mfrom\u001b[0m \u001b[0mpycuda\u001b[0m\u001b[0;34m.\u001b[0m\u001b[0mtools\u001b[0m \u001b[0;32mimport\u001b[0m \u001b[0mmake_default_context\u001b[0m\u001b[0;34m\u001b[0m\u001b[0;34m\u001b[0m\u001b[0m\n",
            "\u001b[0;31mRuntimeError\u001b[0m: cuInit failed: no CUDA-capable device is detected"
          ]
        }
      ]
    }
  ]
}